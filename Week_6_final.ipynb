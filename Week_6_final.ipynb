{
 "cells": [
  {
   "cell_type": "markdown",
   "metadata": {},
   "source": [
    "# Разработка сентимент-анализа под задачу заказчика"
   ]
  },
  {
   "cell_type": "code",
   "execution_count": 35,
   "metadata": {},
   "outputs": [],
   "source": [
    "import pandas as pd\n",
    "\n",
    "from sklearn.pipeline import make_pipeline\n",
    "from sklearn.model_selection import cross_val_score\n",
    "from sklearn.linear_model import LogisticRegression, SGDClassifier\n",
    "from sklearn.svm import LinearSVC\n",
    "from sklearn.feature_extraction.text import CountVectorizer, TfidfVectorizer\n",
    "from sklearn.naive_bayes import MultinomialNB\n",
    "from sklearn.ensemble import RandomForestClassifier\n",
    "\n",
    "import re\n",
    "import requests\n",
    "from bs4 import BeautifulSoup"
   ]
  },
  {
   "cell_type": "markdown",
   "metadata": {},
   "source": [
    "Сперва необходимо посмотреть отзывы, которые предоставлены в качестве тестовой выборки: "
   ]
  },
  {
   "cell_type": "code",
   "execution_count": 26,
   "metadata": {},
   "outputs": [
    {
     "name": "stdout",
     "output_type": "stream",
     "text": [
      "<review>Ужасно слабый аккумулятор, это основной минус этого аппарата, разряжается буквально за пару часов при включенном wifi и на макс подсветке, например если играть или смотреть видео, следовательно использовать можно только если есть постоянная возможность подзарядиться. Качества звука через динамик далеко не на высоте.Наблюдаются незначительные тормоза в некоторых приложениях и вообще в меню. Очень мало встроенной памяти, а приложения устанавливаются именно туда, с этим связанны неудобства - нужно постоянно переносить их на карту памяти.\n",
      "\n"
     ]
    }
   ],
   "source": [
    "f = open('test.csv', 'r')\n",
    "print(f.readline())"
   ]
  },
  {
   "cell_type": "markdown",
   "metadata": {},
   "source": [
    "Видим, что в датасете идет речь про телефоны, поэтому попробуем напарсить похожих отзывов с существующих открытых ресурсов, а именно с сайта: https://torg.mail.ru/review/goods/mobilephones/"
   ]
  },
  {
   "cell_type": "code",
   "execution_count": 29,
   "metadata": {},
   "outputs": [],
   "source": [
    "req = requests.get('https://torg.mail.ru/review/goods/mobilephones/')\n",
    "soap = BeautifulSoup(req.text, \"html.parser\")"
   ]
  },
  {
   "cell_type": "markdown",
   "metadata": {},
   "source": [
    "Так как на странице используется пагинация, сперва получим количество страниц:"
   ]
  },
  {
   "cell_type": "code",
   "execution_count": 30,
   "metadata": {},
   "outputs": [
    {
     "data": {
      "text/plain": [
       "'1 - 20 из 18 559'"
      ]
     },
     "execution_count": 30,
     "metadata": {},
     "output_type": "execute_result"
    }
   ],
   "source": [
    "pages = soap.find('div', {'class': 'pager-info'})\n",
    "pages.text"
   ]
  },
  {
   "cell_type": "markdown",
   "metadata": {},
   "source": [
    "Видим что у нас 18 548 страниц, теперь попробуем спарсить отзывы с первой страницы: "
   ]
  },
  {
   "cell_type": "code",
   "execution_count": 31,
   "metadata": {},
   "outputs": [],
   "source": [
    "section = soap.find('section', {'class': 'card__responses js-review_list js-ustat_container js-ustat_container_reviewsList'})\n",
    "section_soap = BeautifulSoup(str(section), \"html.parser\")\n",
    "review_item__info = section_soap.find_all('div', {'class': 'review-item__body'})"
   ]
  },
  {
   "cell_type": "markdown",
   "metadata": {},
   "source": [
    "Пройдемся по ним и проверим, правильно ли мы собрали отзывы: "
   ]
  },
  {
   "cell_type": "code",
   "execution_count": 32,
   "metadata": {},
   "outputs": [
    {
     "name": "stdout",
     "output_type": "stream",
     "text": [
      "4  -  В целом не плохой телефон. Сочный и яркий экран, на улице всё разборчиво видно в солнечный день. Никаких подвисаний при открытии нескольких приложений сразу. Камера также хорошо фотографировует, но в тёмное время суток так себе конечно фото. Ну и царапается быстро, то есть и товарный вид быстрее потеряет. В остальном все не плохо\n",
      "5  -  Считаю его одним из лучших в своем ценовом диапазоне. Очень шустрый телефон, приятная оболочка ( лучше гуголовской), хорошо сидит в руке. Отдельно хотел похвалить аккумулятор - телефон спокойно хватает на два дня при среднем времени использования. Единственным недостатком считаю камеру, так как она плохо фокусируется и часто все мажет.\n",
      "3  -  первый сони использовал пол года, пока не разбил ёмкостный экран, сдавал в сервис, специалистов нет, у товарища такая же проблема. Купил ХА1, телефон хороший, батарей неплохая.\t\t\t\t\t\t\t\t\t\t\t\t\n",
      "1  -  Такой телефон и телефоном назвать-то нельзя.Прежде чем захотеть кому-то позвонить,7 раз подумаешь хватит ли у тебя нервов и терпения.Контакты не загружаются,имена не высвечиваются,если хочешь занести новый контакт в телефонную книгу,нужно как минимум пол часа подождать одобрения самого телефона.Пришлось учить часто набираемые контакты наизусть,в целях экономии времени.Постоянные помехи при разговоре,звонок скидывается,телефон видимо сам определяет с сколько мне разговаривать,нажимается пауза или громкая связь,особенно часто в общественных местах,маршрутках.За пол года пользования я так и не поняла в какой момент включается и выключается блокировка,поэтому,чтобы завершить вызов,нужно нажимать на всё подряд.Смс приходят только на следующий день,а если я отправляю,просит повторить попытку.Заряда хватает на 12 часов максимум.Иногда он сам отключается ни с того ни с сего.А ещё кнопку блокировки нужно нажать 3-4 раза,чтобы загорелся экран.Будильник,который стоит на ежедневном режиме,работает также от желания телефона,по выходным звонит,а в будни только высвечивает,что он пытался меня разбудить.Удалила все приложения(ютуб,вацап и т.п.,сам интернет!!!),а места всё равно нет.Это не телефон,а какое-то недоразумение.\n",
      "2  -  Я пожилой человек ,взял для себя ,меня все устраивае в этом телефоне:и приемник без гарнитуры,и акамулятор мощный,а фонарик вообще как прожектор!Но все портит зависание телефона на 3-4 минуты,потом он сам перезагружается и снова работает,в самый непододящий момент.Попытаюсь поменять(брал в Связном),но на тот момент когда я его брал,н был один.\n",
      "4  -  Падал на кафель, на бетон-было пофигу. Упал на мягкий ламинат-треснул экран\t\t\t\t\t\t\t\t\t\t\t\t\n",
      "5  -  Недавно приобрела смартфон ZTE Blade A6. Телефон имеет отличное качество среди смартфонов своей ценовой категории. Стильный тонкий корпус, кнопочки сбоку очень удобны в использовании. Тыловая камера 13 МП, что меня очень порадовало. Так же камера смартфона имеет несколько режимов настройки, в том числе «Pro». Снимки получаются очень качественными. Большой и яркий экран. Отклик на касания не подводит. Батарея держит заряд действительно долго и заряжается очень быстро. Приятным бонусом для меня стало наличие датчиков освещенности, холла, гироскопа и датчика пальцев. В целом, телефон обладает отличным набором функций по приемлемой цене.\n",
      "1  -  Телефон ужасный. Утром зарядил, к вечеру батарея разряжена. Звук настолько тихий при максимальной громкости, что не всегда узнаёшь что тебе кто то звонил пока не возьмёшь трубку в руки. Это ещё не всё. В телефоне две стандартные мелодии на звонок и две мелодии на смс. Памяти своей нет, совсем. Пришлось ставить SD карту на 4ГБ и закачать туда мелодию на звонок и смс. Установил в настройках профиля новые мелодии и пару часов всё работало, но вдруг сбросились настройки профиля и звонки стали снова стандартными, т.е. телефон перестал видеть мелодии на SD карте, помогла перезагрузка телефона. Эта история стала повторяться регулярно. В общем никому не рекомендую этот аппарат, больше потратите нервов чем получите пользы. Оценка 1 из 10.\n",
      "5  -  в корне не согласен с прежним отзывом. телефон довольно хорош, маленький и удобный меню стандартное для моторолки - кнопки взять/положить трубку зеркальны, наличие сд карты - конектить с компом впринципе не нужно.\t\t\t\t\t\t\t\t\t\t\t\t\n",
      "4  -  Характеристики неплохие,качественными дисплей и камера. Я довольна, тем более , что это бюджетный вариант. Ещё бюджетные варианты описаны https://smartbobr.ru/dlyasmartfonov/smartfony-do-10000-rublej/#Xiaomi_Redmi_Note_5A__10000, где я его и выбрала\t\t\t\t\t\t\t\t\t\t\t\t\n",
      "5  -  тихий звонок и музыка - может после купания (прыгнул за ребенком в озеро с тел)<br />\r\n",
      "раза 4 вис... пришлось отключать батарею... может вирусы пытались взять тел под управление а он не дался<br />\r\n",
      "не могу очистить оперативную память, благо сам себя чистит и сообщает очистил мол 4.74 оперативной памяти\n",
      "5  -  Один из лучших телефонов на настоящее время! Очень быстрый и стильный! Хорошая камера! А главное ,батарея очень долгая и конечно цена!\t\t\t\t\t\t\t\t\t\t\t\t\n",
      "2  -  Ужасная камера, отвратительная просто. Звук громкости, тихий очень. Подсветки на клавишах нет. Индикатора пропущенных вызовов нет. Не стоит таких денег, как на витрине. Хуже китайцев. А, но да за марку самсунг денег же содрать нужно. Фуфло полное. Кто думает его покупать. Сначала хорошенько все посмотрите и подумайте. Удачи!!!\n",
      "1  -  Тормозит страшно. Самостоятельно обновляется при включении Wi-Fi, несмотря на то что функция отключена как таковая. Стекло, которое поставляется вместе с телефоном слабо реагирует на нажатие, чувствительность низкая. После обновления (самостоятельного) с Андроид 6 до 7, вообще практически перестал реагировать на нажатие, а если и среагирует (о чудо), то тут же как бы сам нажимается опять и все надо начинать сначала. Сервис центр нарушений почему то не выявил. Короче валяется в  шкафу, в коробке. Бесполезно потраченные деньги.\n",
      "5  -  Телефон прелесть! Качество отменное: ни одного сбоя, сеть всегда есть, а самое интересное то, что на сегодняшний день (февраль 2018г) аккумулятор (фирменный, LG) чувствует себя вполне здоровым, и это на 13-м году его жизни! \r\n",
      "Молодцы корейцы!\t\t\t\t\t\t\t\t\t\t\t\t\n",
      "5  -  Очень хороший телефон, пользуюсь третий месяц.\t\t\t\t\t\t\t\t\t\t\t\t\n",
      "5  -  Айфон спорный аппарат. Начну с недостатков. Аккумулятор в нем ерунда. Не то как он его держит- а 1400- сам объем. Ну, понятно что аппарат 2011 года (что по нему не скажешь). При 10% заряда и ниже- просто отключается. Андроиды могут работать на 1 % заряда почти сутки- без использования.И до часа (+-)-в- использовании.Связь. Не знаю как у кого. Было проверено- Билайн- Кселл- ловит плохо. Это беда многих айфонов- слышала- читала. Тяжеловат по мне. 140 гр ощущается как все 160..Айклауд. Это полезная вещь -безусловно. Для внутренней платформы.Пользования услугами. Сервисом. И от кражи... НО- я точно знаю хозяев, которые продают свои заблокированные кирпичи- не важно- помнят они пароль или нет. Именно поэтому я -боюсь его создавать.Греется. При звонках, или когда ищет сеть- оператора.<br />\r\n",
      "А теперь о плюсах. Производительный. Это безусловно лучший гаджет в работе. Плавный. Оптимизированный. Телефон 2011 года не ощущается старым. Все в нем работает на ура.Retina- лучший экран, который я видела. Для глаз.Удобный- в работе. хотя экран я бы хотела больше по размеру. Только нужные приложения. Нет в нем лишнего- хлама. От которого глаза разбегаются как во многих- андроидах. Красавец! Чем дольше я им пользуюсь, тем больше понимаю что \"подсела\" на него. И мне трудно будет найти ему замену, хотя он- капризный аппарат. В связи. В настройках.<br />\r\n",
      " В общем... я аппарат конечно, рекомендую. НО- его нужно настроить. За ним нужно ухаживать. Мне изначально попался аппарат уже- видавший виды. И снаружи- и внутри. любая техника любит- ухода. Ну и- если вы хотите иметь айфон- вам придется смириться с его- \"капризами\"- то он ловит сеть то не- ловит, например. Греется- об этом сказала выше.<br />\r\n",
      "В общем- есть в нем и минусы и плюсы, как в любом продукте. Но красавец, зараза! Трудно потом от него отказаться.\n",
      "4  -  Пробыл 4 года,батарея стала держать максимум три часа постоянного использования и что-то с камерой случилось(а ведь она одно из лучшего что есть в телефоне)...По хорошей цене не нашла подобного качества камеры...Буду брать опять...\t\t\t\t\t\t\t\t\t\t\t\t\n",
      "5  -  За эти деньги лучше не найти!!!!!!Купил спонтанно так*как  Грессо за 90000 т Сломался в очередной раз.\t\t\t\t\t\t\t\t\t\t\t\t\n",
      "1  -  дрянь а не смартфон батарея быстро садится  нужно два раза нажимать на ответ не прошло и двух лет как индикаторы самого смартфона и батареи сменили цвет на красный хотя в воде он не был села громкость звонившего  вообщем не советую\t\t\t\t\t\t\t\t\t\t\t\t\n"
     ]
    }
   ],
   "source": [
    "for i in review_item__info:\n",
    "    i_soap = BeautifulSoup(str(i), \"html.parser\")\n",
    "    score = i_soap.find('span', {'class': 'review-item__rating-counter'}).text\n",
    "    if i_soap.find('a', {'class': 'more'}) is not None: \n",
    "        text = i_soap.find('a', {'class': 'more'}).get('full-text')\n",
    "    else:\n",
    "        text = i_soap.find('span', {'class': 'js-more-text'}).text \n",
    "    print(score, ' - ', text)"
   ]
  },
  {
   "cell_type": "markdown",
   "metadata": {},
   "source": [
    " "
   ]
  },
  {
   "cell_type": "markdown",
   "metadata": {},
   "source": [
    "Подготовим метод, который запишет распаршенные отзывы в файл: "
   ]
  },
  {
   "cell_type": "code",
   "execution_count": 33,
   "metadata": {},
   "outputs": [],
   "source": [
    "def write_to_file(filename, text, score):\n",
    "    f = open(filename, 'a')\n",
    "    if int(score[0]) == 3:\n",
    "        return None\n",
    "    score = 0 if int(score[0]) <= 3 else 1\n",
    "    text = re.sub('<[^<]+?>', '', text.replace('\\n', ' ').replace('\\r', ' '))\n",
    "    text = re.sub('^https?:\\/\\/.*[\\r\\n]*', '', text, flags=re.MULTILINE)\n",
    "    f.write(text.rstrip() + '\t' + str(score) + '\\n')\n",
    "    f.close() "
   ]
  },
  {
   "cell_type": "markdown",
   "metadata": {},
   "source": [
    "По количеству страниц понятно, что лучше всего здесь использовать мультипроцессинг, поэтому сделаем метод, который принимает два числа: страница, с которой нужно начать парсинг и страница, которой нужно его закончить: "
   ]
  },
  {
   "cell_type": "code",
   "execution_count": 34,
   "metadata": {},
   "outputs": [],
   "source": [
    "def start_parsing(page_start, page_end, filename):\n",
    "    while page_start <= page_end:\n",
    "        page_start += 1\n",
    "\n",
    "        req = requests.get('https://torg.mail.ru/review/goods/mobilephones/' + '?page=' + str(page_start))\n",
    "        if req.status_code != 200:\n",
    "            time.sleep(30)\n",
    "            continue\n",
    "\n",
    "        soap = BeautifulSoup(req.text, \"html.parser\")\n",
    "        section = soap.find('section',\n",
    "                        {'class': 'card__responses js-review_list js-ustat_container js-ustat_container_reviewsList'})\n",
    "        section_soap = BeautifulSoup(str(section), \"html.parser\")\n",
    "        review_item__info = section_soap.find_all('div', {'class': 'review-item__body'})\n",
    "\n",
    "        for i in review_item__info:\n",
    "            i_soap = BeautifulSoup(str(i), \"html.parser\")\n",
    "            score = i_soap.find('span', {'class': 'review-item__rating-counter'}).text\n",
    "\n",
    "            if i_soap.find('a', {'class': 'more'}) is not None:\n",
    "                text = i_soap.find('a', {'class': 'more'}).get('full-text')\n",
    "            else:\n",
    "                text = i_soap.find('span', {'class': 'js-more-text'}).text\n",
    "            write_to_file(filename, text, score)"
   ]
  },
  {
   "cell_type": "markdown",
   "metadata": {},
   "source": [
    "Вызовем в директории файл с этим методом и подождем, пока спарсятся отзывы."
   ]
  },
  {
   "cell_type": "markdown",
   "metadata": {},
   "source": [
    "После того как данные спарсились, мы можем приступить к выбору классификатора. Загрузим данные в датафрейм, предварительно их обработав текст: "
   ]
  },
  {
   "cell_type": "code",
   "execution_count": 36,
   "metadata": {},
   "outputs": [],
   "source": [
    "f = open('reviews.txt', 'r')\n",
    "f_1 = open('reviews_1.txt', 'w')\n",
    "\n",
    "for i in f.readlines():\n",
    "    if len(i.split()) < 100:\n",
    "        f_1.write(i.replace('\t' + i[len(i)-2], '').replace('\\n', '').replace('\\t', '') + '\t' + i[len(i)-2] + '\\n')\n",
    "df = pd.read_csv('reviews_1.txt', sep='\t', names=['text', 'target'])\n",
    "df = df[pd.notnull(df['text'])]"
   ]
  },
  {
   "cell_type": "markdown",
   "metadata": {},
   "source": [
    "Теперь посмотрим на данные, а именно посчитаем количество положительных и отрицтельных отзывов:"
   ]
  },
  {
   "cell_type": "code",
   "execution_count": 3,
   "metadata": {},
   "outputs": [
    {
     "name": "stdout",
     "output_type": "stream",
     "text": [
      "pos:  11466\n",
      "neg:  1535\n"
     ]
    }
   ],
   "source": [
    "print('pos: ', len(df[(df.target == 1)]))\n",
    "print('neg: ', len(df[(df.target == 0)]))"
   ]
  },
  {
   "cell_type": "markdown",
   "metadata": {},
   "source": [
    "Видимо, что положительных отзывов намного больше, чем отрицательных, поэтому велик риск, что классификатор будет работать некорректно, подкорректируем датафрейм, удалим часть положительных отзывов:"
   ]
  },
  {
   "cell_type": "code",
   "execution_count": 4,
   "metadata": {},
   "outputs": [],
   "source": [
    "df = pd.concat([df[(df.target == 1)][:2550], df[(df.target == 0)]])"
   ]
  },
  {
   "cell_type": "markdown",
   "metadata": {},
   "source": [
    "Теперь выберем классификатор: "
   ]
  },
  {
   "cell_type": "code",
   "execution_count": 5,
   "metadata": {},
   "outputs": [],
   "source": [
    "def score(clf):\n",
    "    scores = cross_val_score(clf, df['text'], df['target'])\n",
    "    print(\"Score = {:.5f}\".format(scores.mean()))"
   ]
  },
  {
   "cell_type": "code",
   "execution_count": 6,
   "metadata": {},
   "outputs": [
    {
     "name": "stdout",
     "output_type": "stream",
     "text": [
      "Score = 0.74665\n"
     ]
    },
    {
     "name": "stderr",
     "output_type": "stream",
     "text": [
      "/usr/local/lib/python3.5/dist-packages/sklearn/linear_model/stochastic_gradient.py:128: FutureWarning: max_iter and tol parameters have been added in <class 'sklearn.linear_model.stochastic_gradient.SGDClassifier'> in 0.19. If both are left unset, they default to max_iter=5 and tol=None. If tol is not None, max_iter defaults to max_iter=1000. From 0.21, default max_iter will be 1000, and default tol will be 1e-3.\n",
      "  \"and default tol will be 1e-3.\" % type(self), FutureWarning)\n",
      "/usr/local/lib/python3.5/dist-packages/sklearn/linear_model/stochastic_gradient.py:128: FutureWarning: max_iter and tol parameters have been added in <class 'sklearn.linear_model.stochastic_gradient.SGDClassifier'> in 0.19. If both are left unset, they default to max_iter=5 and tol=None. If tol is not None, max_iter defaults to max_iter=1000. From 0.21, default max_iter will be 1000, and default tol will be 1e-3.\n",
      "  \"and default tol will be 1e-3.\" % type(self), FutureWarning)\n",
      "/usr/local/lib/python3.5/dist-packages/sklearn/linear_model/stochastic_gradient.py:128: FutureWarning: max_iter and tol parameters have been added in <class 'sklearn.linear_model.stochastic_gradient.SGDClassifier'> in 0.19. If both are left unset, they default to max_iter=5 and tol=None. If tol is not None, max_iter defaults to max_iter=1000. From 0.21, default max_iter will be 1000, and default tol will be 1e-3.\n",
      "  \"and default tol will be 1e-3.\" % type(self), FutureWarning)\n"
     ]
    },
    {
     "name": "stdout",
     "output_type": "stream",
     "text": [
      "Score = 0.74175\n",
      "Score = 0.73098\n",
      "Score = 0.77040\n",
      "Score = 0.69499\n"
     ]
    }
   ],
   "source": [
    "for classf in [LogisticRegression, SGDClassifier, LinearSVC, MultinomialNB, RandomForestClassifier]:\n",
    "    clf = make_pipeline(CountVectorizer(ngram_range=(1,2)), classf())\n",
    "    score(clf)"
   ]
  },
  {
   "cell_type": "markdown",
   "metadata": {},
   "source": [
    "Видим, что лучшее качество у классификатора MultinomialNB, его и будем использовать в дальнейшем."
   ]
  },
  {
   "cell_type": "markdown",
   "metadata": {},
   "source": [
    "Обучим классификатор на наших данных: "
   ]
  },
  {
   "cell_type": "code",
   "execution_count": 7,
   "metadata": {},
   "outputs": [
    {
     "data": {
      "text/plain": [
       "Pipeline(memory=None,\n",
       "     steps=[('countvectorizer', CountVectorizer(analyzer='word', binary=False, decode_error='strict',\n",
       "        dtype=<class 'numpy.int64'>, encoding='utf-8', input='content',\n",
       "        lowercase=True, max_df=1.0, max_features=None, min_df=1,\n",
       "        ngram_range=(1, 2), preprocessor=None, stop_words=None,\n",
       "        strip_accents=None, token_pattern='(?u)\\\\b\\\\w\\\\w+\\\\b',\n",
       "        tokenizer=None, vocabulary=None)), ('multinomialnb', MultinomialNB(alpha=1.0, class_prior=None, fit_prior=True))])"
      ]
     },
     "execution_count": 7,
     "metadata": {},
     "output_type": "execute_result"
    }
   ],
   "source": [
    "clf = make_pipeline(CountVectorizer(ngram_range=(1,2)), MultinomialNB())\n",
    "clf.fit(df['text'], df['target'])"
   ]
  },
  {
   "cell_type": "markdown",
   "metadata": {},
   "source": [
    "Загрузим тестовые данные: "
   ]
  },
  {
   "cell_type": "code",
   "execution_count": 8,
   "metadata": {},
   "outputs": [],
   "source": [
    "# откроем файл и запигшем весь текст в переменную\n",
    "f_1 = open('test.csv', 'r')\n",
    "str_file = ''\n",
    "for i in f_1.readlines():\n",
    "    str_file += i\n",
    "\n",
    "# пройдемся по тексту и отформатируем текст\n",
    "test_arr = []\n",
    "for i in str_file.split('<review>'):\n",
    "    i = i.replace('</review>', '')\n",
    "    i = re.sub('<[^<]+?>', '', i.replace('\\n', ' ').replace('\\r', ' ').replace('\\t', ' ').replace('   ', ''))\n",
    "    test_arr.append(i)\n",
    "\n",
    "test_arr.remove('')\n",
    "# создадим датафрейм\n",
    "df_test = pd.DataFrame(data={'text': test_arr})\n",
    "df_test = df_test[pd.notnull(df_test['text'])]"
   ]
  },
  {
   "cell_type": "markdown",
   "metadata": {},
   "source": [
    "Запишем результаты модели на тестовых данных: "
   ]
  },
  {
   "cell_type": "code",
   "execution_count": 23,
   "metadata": {},
   "outputs": [],
   "source": [
    "def write_answer(pred_arr):\n",
    "    f = open('sub.csv', 'w')\n",
    "    count = 0\n",
    "    f.write('Id,y' + '\\n')\n",
    "    for i in pred_arr:\n",
    "        f.write(str(count) + ',' + 'pos' + '\\n') if i == 1 else f.write(str(count) + ',' + 'neg' + '\\n')\n",
    "        count += 1\n",
    "        \n",
    "pred_arr = clf.predict(df_test['text'])\n",
    "write_answer(pred_arr)"
   ]
  },
  {
   "cell_type": "markdown",
   "metadata": {},
   "source": [
    "Результат составил 74%. Как-минимум необходимо набрать 85%, поэтому нам необходимо, либо подобрать другой классификатор, либо лучше обучить текущий. Попробуем поработать со второй гипотезой и обучить классификатор на большем массиве данных. Для решения этой задачи мы можем, либо напарсить еще отзывов, либо попробовать поискать отзывы в открытых источниках, например на Kaggle. После небольшого поиска удалось найти датасет: https://www.kaggle.com/alxmamaev/market-comments-tonality-analys, а также https://www.kaggle.com/thorinhood/russian-twitter-sentiment. В первом датасете мы видим отзывы на товары, во втором твиты. "
   ]
  },
  {
   "cell_type": "markdown",
   "metadata": {},
   "source": [
    "Попробуем дообучить нашу модель на новых данных, для этого загрузим данные и объеденим их в единый датафрейм: "
   ]
  },
  {
   "cell_type": "markdown",
   "metadata": {},
   "source": [
    "Начнем с твитов: "
   ]
  },
  {
   "cell_type": "code",
   "execution_count": 10,
   "metadata": {},
   "outputs": [
    {
     "data": {
      "text/html": [
       "<div>\n",
       "<style>\n",
       "    .dataframe thead tr:only-child th {\n",
       "        text-align: right;\n",
       "    }\n",
       "\n",
       "    .dataframe thead th {\n",
       "        text-align: left;\n",
       "    }\n",
       "\n",
       "    .dataframe tbody tr th {\n",
       "        vertical-align: top;\n",
       "    }\n",
       "</style>\n",
       "<table border=\"1\" class=\"dataframe\">\n",
       "  <thead>\n",
       "    <tr style=\"text-align: right;\">\n",
       "      <th></th>\n",
       "      <th>text</th>\n",
       "      <th>target</th>\n",
       "    </tr>\n",
       "  </thead>\n",
       "  <tbody>\n",
       "    <tr>\n",
       "      <th>0</th>\n",
       "      <td>на работе был полный пиддес :| и так каждое за...</td>\n",
       "      <td>0</td>\n",
       "    </tr>\n",
       "    <tr>\n",
       "      <th>1</th>\n",
       "      <td>Коллеги сидят рубятся в Urban terror, а я из-з...</td>\n",
       "      <td>0</td>\n",
       "    </tr>\n",
       "    <tr>\n",
       "      <th>2</th>\n",
       "      <td>@elina_4post как говорят обещаного три года жд...</td>\n",
       "      <td>0</td>\n",
       "    </tr>\n",
       "    <tr>\n",
       "      <th>3</th>\n",
       "      <td>Желаю хорошего полёта и удачной посадки,я буду...</td>\n",
       "      <td>0</td>\n",
       "    </tr>\n",
       "    <tr>\n",
       "      <th>4</th>\n",
       "      <td>Обновил за каким-то лешим surf, теперь не рабо...</td>\n",
       "      <td>0</td>\n",
       "    </tr>\n",
       "  </tbody>\n",
       "</table>\n",
       "</div>"
      ],
      "text/plain": [
       "                                                text  target\n",
       "0  на работе был полный пиддес :| и так каждое за...       0\n",
       "1  Коллеги сидят рубятся в Urban terror, а я из-з...       0\n",
       "2  @elina_4post как говорят обещаного три года жд...       0\n",
       "3  Желаю хорошего полёта и удачной посадки,я буду...       0\n",
       "4  Обновил за каким-то лешим surf, теперь не рабо...       0"
      ]
     },
     "execution_count": 10,
     "metadata": {},
     "output_type": "execute_result"
    }
   ],
   "source": [
    "df_tw = pd.read_csv('tw_neg.csv', sep=';', names=['item_id1', 'item_id2', 'author', 'text',\"id_1\",\"id_2\",\"id_3\",\"id_4\",\"id_5\",\"id_6\",\"id_7\",\"id_8\"])\n",
    "df_tw['target'] = 0\n",
    "df_tw = df_tw.drop(['item_id1', 'item_id2','author', \"id_1\",\"id_2\",\"id_3\",\"id_4\",\"id_5\",\"id_6\",\"id_7\",\"id_8\"], axis=1)\n",
    "df_tw.head()"
   ]
  },
  {
   "cell_type": "code",
   "execution_count": 11,
   "metadata": {},
   "outputs": [
    {
     "data": {
      "text/html": [
       "<div>\n",
       "<style>\n",
       "    .dataframe thead tr:only-child th {\n",
       "        text-align: right;\n",
       "    }\n",
       "\n",
       "    .dataframe thead th {\n",
       "        text-align: left;\n",
       "    }\n",
       "\n",
       "    .dataframe tbody tr th {\n",
       "        vertical-align: top;\n",
       "    }\n",
       "</style>\n",
       "<table border=\"1\" class=\"dataframe\">\n",
       "  <thead>\n",
       "    <tr style=\"text-align: right;\">\n",
       "      <th></th>\n",
       "      <th>text</th>\n",
       "      <th>target</th>\n",
       "    </tr>\n",
       "  </thead>\n",
       "  <tbody>\n",
       "    <tr>\n",
       "      <th>0</th>\n",
       "      <td>@first_timee хоть я и школота, но поверь, у на...</td>\n",
       "      <td>1</td>\n",
       "    </tr>\n",
       "    <tr>\n",
       "      <th>1</th>\n",
       "      <td>Да, все-таки он немного похож на него. Но мой ...</td>\n",
       "      <td>1</td>\n",
       "    </tr>\n",
       "    <tr>\n",
       "      <th>2</th>\n",
       "      <td>RT @KatiaCheh: Ну ты идиотка) я испугалась за ...</td>\n",
       "      <td>1</td>\n",
       "    </tr>\n",
       "    <tr>\n",
       "      <th>3</th>\n",
       "      <td>RT @digger2912: \"Кто то в углу сидит и погибае...</td>\n",
       "      <td>1</td>\n",
       "    </tr>\n",
       "    <tr>\n",
       "      <th>4</th>\n",
       "      <td>@irina_dyshkant Вот что значит страшилка :D\\nН...</td>\n",
       "      <td>1</td>\n",
       "    </tr>\n",
       "  </tbody>\n",
       "</table>\n",
       "</div>"
      ],
      "text/plain": [
       "                                                text  target\n",
       "0  @first_timee хоть я и школота, но поверь, у на...       1\n",
       "1  Да, все-таки он немного похож на него. Но мой ...       1\n",
       "2  RT @KatiaCheh: Ну ты идиотка) я испугалась за ...       1\n",
       "3  RT @digger2912: \"Кто то в углу сидит и погибае...       1\n",
       "4  @irina_dyshkant Вот что значит страшилка :D\\nН...       1"
      ]
     },
     "execution_count": 11,
     "metadata": {},
     "output_type": "execute_result"
    }
   ],
   "source": [
    "df_tw_2 = pd.read_csv('tw_pos.csv', sep=';', names=['item_id1', 'item_id2', 'author', 'text',\"id_1\",\"id_2\",\"id_3\",\"id_4\",\"id_5\",\"id_6\",\"id_7\",\"id_8\"])\n",
    "df_tw_2['target'] = 1\n",
    "df_tw_2 = df_tw_2.drop(['item_id1', 'item_id2','author', \"id_1\",\"id_2\",\"id_3\",\"id_4\",\"id_5\",\"id_6\",\"id_7\",\"id_8\"], axis=1)\n",
    "df_tw_2.head()"
   ]
  },
  {
   "cell_type": "code",
   "execution_count": 12,
   "metadata": {},
   "outputs": [],
   "source": [
    "df_twt = pd.concat([df_tw_2, df_tw])"
   ]
  },
  {
   "cell_type": "markdown",
   "metadata": {},
   "source": [
    "Теперь добавим данные отзывов на товары: "
   ]
  },
  {
   "cell_type": "code",
   "execution_count": 13,
   "metadata": {},
   "outputs": [],
   "source": [
    "df_market = pd.read_csv('market.csv', sep=',', names=['item_id1', 'item_id2', 'brand', 'user_id', 'date', 'comment', 'reting', 'negative_comment', 'positive_comment'])"
   ]
  },
  {
   "cell_type": "code",
   "execution_count": 14,
   "metadata": {},
   "outputs": [
    {
     "data": {
      "text/html": [
       "<div>\n",
       "<style>\n",
       "    .dataframe thead tr:only-child th {\n",
       "        text-align: right;\n",
       "    }\n",
       "\n",
       "    .dataframe thead th {\n",
       "        text-align: left;\n",
       "    }\n",
       "\n",
       "    .dataframe tbody tr th {\n",
       "        vertical-align: top;\n",
       "    }\n",
       "</style>\n",
       "<table border=\"1\" class=\"dataframe\">\n",
       "  <thead>\n",
       "    <tr style=\"text-align: right;\">\n",
       "      <th></th>\n",
       "      <th>text</th>\n",
       "      <th>target</th>\n",
       "    </tr>\n",
       "  </thead>\n",
       "  <tbody>\n",
       "    <tr>\n",
       "      <th>6</th>\n",
       "      <td>Сегодня купила 2 таких вентилятора! Ужасный. С...</td>\n",
       "      <td>0</td>\n",
       "    </tr>\n",
       "    <tr>\n",
       "      <th>11</th>\n",
       "      <td>Смотрели сегодня эту модель в магазине, сначал...</td>\n",
       "      <td>0</td>\n",
       "    </tr>\n",
       "    <tr>\n",
       "      <th>18</th>\n",
       "      <td>Ужасная некачественная сборка, мне попался с н...</td>\n",
       "      <td>0</td>\n",
       "    </tr>\n",
       "    <tr>\n",
       "      <th>29</th>\n",
       "      <td>Отвратительный пылесос, лучше бы мы не покупал...</td>\n",
       "      <td>0</td>\n",
       "    </tr>\n",
       "    <tr>\n",
       "      <th>52</th>\n",
       "      <td>Был у меня такой тепловентилятор, проработав н...</td>\n",
       "      <td>0</td>\n",
       "    </tr>\n",
       "  </tbody>\n",
       "</table>\n",
       "</div>"
      ],
      "text/plain": [
       "                                                 text  target\n",
       "6   Сегодня купила 2 таких вентилятора! Ужасный. С...       0\n",
       "11  Смотрели сегодня эту модель в магазине, сначал...       0\n",
       "18  Ужасная некачественная сборка, мне попался с н...       0\n",
       "29  Отвратительный пылесос, лучше бы мы не покупал...       0\n",
       "52  Был у меня такой тепловентилятор, проработав н...       0"
      ]
     },
     "execution_count": 14,
     "metadata": {},
     "output_type": "execute_result"
    }
   ],
   "source": [
    "m_neg = pd.concat([df_market[df_market.reting=='1.0'], df_market[df_market.reting=='2.0']])\n",
    "m_neg['target'] = 0\n",
    "m_neg = m_neg.drop(['item_id1', 'item_id2','brand', 'user_id', 'date', 'reting', 'negative_comment', 'positive_comment'], axis=1)\n",
    "m_neg.rename(index=str, columns={\"comment\": \"text\"})\n",
    "m_pos = pd.concat([df_market[df_market.reting=='4.0'], df_market[df_market.reting=='5.0']])[:2000]\n",
    "m_pos['target'] = 1\n",
    "m_pos = m_pos.drop(['item_id1', 'item_id2','brand', 'user_id', 'date', 'reting', 'negative_comment', 'positive_comment'], axis=1)\n",
    "m_pos.rename(index=str, columns={\"comment\": \"text\"})\n",
    "m_df = pd.concat([m_neg, m_pos]).rename(index=str, columns={\"comment\": \"text\"})\n",
    "m_df.head()"
   ]
  },
  {
   "cell_type": "markdown",
   "metadata": {},
   "source": [
    "Объеденим теперь эти два датафрейма в один: "
   ]
  },
  {
   "cell_type": "code",
   "execution_count": 15,
   "metadata": {},
   "outputs": [],
   "source": [
    "df = pd.concat([df_twt, m_df, df])"
   ]
  },
  {
   "cell_type": "markdown",
   "metadata": {},
   "source": [
    "Теперь попробуем еще раз обучить классификатор и проверить его на тестовой выборке:"
   ]
  },
  {
   "cell_type": "code",
   "execution_count": 20,
   "metadata": {},
   "outputs": [
    {
     "data": {
      "text/plain": [
       "Pipeline(memory=None,\n",
       "     steps=[('countvectorizer', CountVectorizer(analyzer='word', binary=False, decode_error='strict',\n",
       "        dtype=<class 'numpy.int64'>, encoding='utf-8', input='content',\n",
       "        lowercase=True, max_df=1.0, max_features=None, min_df=1,\n",
       "        ngram_range=(1, 2), preprocessor=None, stop_words=None,\n",
       "        strip_accents=None, token_pattern='(?u)\\\\b\\\\w\\\\w+\\\\b',\n",
       "        tokenizer=None, vocabulary=None)), ('multinomialnb', MultinomialNB(alpha=1.0, class_prior=None, fit_prior=True))])"
      ]
     },
     "execution_count": 20,
     "metadata": {},
     "output_type": "execute_result"
    }
   ],
   "source": [
    "clf = make_pipeline(CountVectorizer(ngram_range=(1,2)), MultinomialNB())\n",
    "clf.fit(df['text'], df['target'])"
   ]
  },
  {
   "cell_type": "markdown",
   "metadata": {},
   "source": [
    "Запишем опять данные в файл и отправим его на Kaggle: "
   ]
  },
  {
   "cell_type": "code",
   "execution_count": 24,
   "metadata": {},
   "outputs": [],
   "source": [
    "pred_arr = clf.predict(df_test['text'])\n",
    "write_answer(pred_arr)"
   ]
  },
  {
   "cell_type": "markdown",
   "metadata": {},
   "source": [
    "### На этот раз нам удалось получить качество 86%, что превышает минимальный показатель 85%."
   ]
  },
  {
   "cell_type": "markdown",
   "metadata": {},
   "source": [
    "Можно поработать над улучшение качества нашей модели. Попробуем добавить в наш пайплан transformer:"
   ]
  },
  {
   "cell_type": "code",
   "execution_count": 39,
   "metadata": {},
   "outputs": [],
   "source": [
    "from sklearn.feature_extraction.text import TfidfTransformer, CountVectorizer, TfidfVectorizer\n",
    "from sklearn.linear_model import LogisticRegression, SGDClassifier\n",
    "from sklearn.svm import LinearSVC\n",
    "from sklearn.naive_bayes import MultinomialNB\n",
    "from sklearn.model_selection import cross_val_score\n",
    "from sklearn.pipeline import Pipeline\n",
    "\n",
    "\n",
    "def text_classifier(vectorizer, transformer, classifier):\n",
    "    return Pipeline(\n",
    "            [(\"vectorizer\", vectorizer),\n",
    "            (\"transformer\", transformer),\n",
    "            (\"classifier\", classifier)]\n",
    "        )"
   ]
  },
  {
   "cell_type": "code",
   "execution_count": 40,
   "metadata": {},
   "outputs": [],
   "source": [
    "clf = text_classifier(TfidfVectorizer(ngram_range=(1, 2)),\n",
    "                               TfidfTransformer(),\n",
    "                               MultinomialNB())"
   ]
  },
  {
   "cell_type": "code",
   "execution_count": 42,
   "metadata": {},
   "outputs": [],
   "source": [
    "clf = clf.fit(df['text'], df['target'])"
   ]
  },
  {
   "cell_type": "code",
   "execution_count": 44,
   "metadata": {},
   "outputs": [],
   "source": [
    "pred_arr = clf.predict(df_test['text'])\n",
    "write_answer(pred_arr)"
   ]
  },
  {
   "cell_type": "markdown",
   "metadata": {},
   "source": [
    "### С даннным классификатором у нас получилось качество 92%.\n"
   ]
  },
  {
   "cell_type": "code",
   "execution_count": 47,
   "metadata": {},
   "outputs": [],
   "source": [
    "import pickle\n",
    "pickle.dump( clf, open( \"clf.p\", \"wb\" ) )"
   ]
  },
  {
   "cell_type": "code",
   "execution_count": null,
   "metadata": {},
   "outputs": [],
   "source": []
  }
 ],
 "metadata": {
  "kernelspec": {
   "display_name": "Python 2",
   "language": "python",
   "name": "python2"
  },
  "language_info": {
   "codemirror_mode": {
    "name": "ipython",
    "version": 3
   },
   "file_extension": ".py",
   "mimetype": "text/x-python",
   "name": "python",
   "nbconvert_exporter": "python",
   "pygments_lexer": "ipython3",
   "version": "3.5.2"
  }
 },
 "nbformat": 4,
 "nbformat_minor": 2
}
